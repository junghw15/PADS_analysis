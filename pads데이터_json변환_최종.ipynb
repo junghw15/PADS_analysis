{
 "cells": [
  {
   "attachments": {},
   "cell_type": "markdown",
   "metadata": {},
   "source": [
    "# PADS 테스트 데이터 json 파일로 만들기"
   ]
  },
  {
   "attachments": {},
   "cell_type": "markdown",
   "metadata": {},
   "source": [
    "데이터 불러오기"
   ]
  },
  {
   "cell_type": "code",
   "execution_count": 25,
   "metadata": {},
   "outputs": [],
   "source": [
    "import pandas as pd \n",
    "import json\n",
    "import numpy as np\n",
    "\n",
    "pd.set_option('display.max_columns', None) #모든 열 출력\n",
    "data_original=pd.read_excel('pads 데이터 필요한것만.xlsx') \n",
    "#data_original\n",
    "\n",
    "# P ID, 결과, 위치값 등 필요한 컬럼만 추출\n",
    "\n",
    "data=data_original[['P ID', ' OK/NG', ' Detail',' Pad area', ' Pad width',' Pad height', ' Mark area', ' Mark area ratio',\n",
    "                    ' Edge distance(Left)',  ' Edge distance(Right)', ' Edge distance(Up)',' Edge distance(Down)', \n",
    "                    ' Distance between center(X)', ' Distance between center(Y)' ]] \n",
    "\n",
    "#data\n",
    "\n"
   ]
  },
  {
   "attachments": {},
   "cell_type": "markdown",
   "metadata": {},
   "source": [
    "데이터 전처리"
   ]
  },
  {
   "cell_type": "code",
   "execution_count": 26,
   "metadata": {},
   "outputs": [
    {
     "data": {
      "text/plain": [
       "P ID                           0\n",
       " OK/NG                         0\n",
       " Detail                        0\n",
       " Pad area                      0\n",
       " Pad width                     0\n",
       " Pad height                    0\n",
       " Mark area                     0\n",
       " Mark area ratio               0\n",
       " Edge distance(Left)           0\n",
       " Edge distance(Right)          0\n",
       " Edge distance(Up)             0\n",
       " Edge distance(Down)           0\n",
       " Distance between center(X)    0\n",
       " Distance between center(Y)    0\n",
       "dtype: int64"
      ]
     },
     "execution_count": 26,
     "metadata": {},
     "output_type": "execute_result"
    }
   ],
   "source": [
    "#결측치 확인\n",
    "data.isnull().sum()"
   ]
  },
  {
   "cell_type": "code",
   "execution_count": 27,
   "metadata": {},
   "outputs": [
    {
     "name": "stderr",
     "output_type": "stream",
     "text": [
      "C:\\Users\\User\\AppData\\Local\\Temp\\ipykernel_2320\\2810710599.py:2: SettingWithCopyWarning: \n",
      "A value is trying to be set on a copy of a slice from a DataFrame.\n",
      "Try using .loc[row_indexer,col_indexer] = value instead\n",
      "\n",
      "See the caveats in the documentation: https://pandas.pydata.org/pandas-docs/stable/user_guide/indexing.html#returning-a-view-versus-a-copy\n",
      "  data[' OK/NG']=data[' OK/NG'].map({' OK':0, ' NG':1})\n",
      "C:\\Users\\User\\AppData\\Local\\Temp\\ipykernel_2320\\2810710599.py:8: SettingWithCopyWarning: \n",
      "A value is trying to be set on a copy of a slice from a DataFrame.\n",
      "Try using .loc[row_indexer,col_indexer] = value instead\n",
      "\n",
      "See the caveats in the documentation: https://pandas.pydata.org/pandas-docs/stable/user_guide/indexing.html#returning-a-view-versus-a-copy\n",
      "  data[' Mark area ratio']=pd.to_numeric(data[' Mark area ratio'], errors='coerce')\n"
     ]
    },
    {
     "data": {
      "text/plain": [
       "P ID                           0\n",
       " OK/NG                         0\n",
       " Detail                        0\n",
       " Pad area                      0\n",
       " Pad width                     0\n",
       " Pad height                    0\n",
       " Mark area                     0\n",
       " Mark area ratio               3\n",
       " Edge distance(Left)           0\n",
       " Edge distance(Right)          0\n",
       " Edge distance(Up)             0\n",
       " Edge distance(Down)           0\n",
       " Distance between center(X)    0\n",
       " Distance between center(Y)    0\n",
       "dtype: int64"
      ]
     },
     "execution_count": 27,
     "metadata": {},
     "output_type": "execute_result"
    }
   ],
   "source": [
    "#OK/NG 데이터 라벨 인코딩 (Ok:0, NG:1)\n",
    "data[' OK/NG']=data[' OK/NG'].map({' OK':0, ' NG':1})\n",
    "#print(data)\n",
    "\n",
    "#데이터 타입 변경\n",
    "#Mark area ratio가 object 타입으로 되어 있어서 표준화가 안됨. float으로 바꿔주기\n",
    "\n",
    "data[' Mark area ratio']=pd.to_numeric(data[' Mark area ratio'], errors='coerce')\n",
    "#print(data.dtypes)\n",
    "\n",
    "data.isnull().sum()"
   ]
  },
  {
   "attachments": {},
   "cell_type": "markdown",
   "metadata": {},
   "source": [
    "결측값 처리"
   ]
  },
  {
   "cell_type": "code",
   "execution_count": 28,
   "metadata": {},
   "outputs": [
    {
     "data": {
      "text/html": [
       "<div>\n",
       "<style scoped>\n",
       "    .dataframe tbody tr th:only-of-type {\n",
       "        vertical-align: middle;\n",
       "    }\n",
       "\n",
       "    .dataframe tbody tr th {\n",
       "        vertical-align: top;\n",
       "    }\n",
       "\n",
       "    .dataframe thead th {\n",
       "        text-align: right;\n",
       "    }\n",
       "</style>\n",
       "<table border=\"1\" class=\"dataframe\">\n",
       "  <thead>\n",
       "    <tr style=\"text-align: right;\">\n",
       "      <th></th>\n",
       "      <th>P ID</th>\n",
       "      <th>OK/NG</th>\n",
       "      <th>Detail</th>\n",
       "      <th>Pad area</th>\n",
       "      <th>Pad width</th>\n",
       "      <th>Pad height</th>\n",
       "      <th>Mark area</th>\n",
       "      <th>Mark area ratio</th>\n",
       "      <th>Edge distance(Left)</th>\n",
       "      <th>Edge distance(Right)</th>\n",
       "      <th>Edge distance(Up)</th>\n",
       "      <th>Edge distance(Down)</th>\n",
       "      <th>Distance between center(X)</th>\n",
       "      <th>Distance between center(Y)</th>\n",
       "    </tr>\n",
       "  </thead>\n",
       "  <tbody>\n",
       "    <tr>\n",
       "      <th>1717</th>\n",
       "      <td>1718</td>\n",
       "      <td>1</td>\n",
       "      <td>2</td>\n",
       "      <td>3765.67</td>\n",
       "      <td>61.13</td>\n",
       "      <td>62.15</td>\n",
       "      <td>0.0</td>\n",
       "      <td>NaN</td>\n",
       "      <td>0.0</td>\n",
       "      <td>0.0</td>\n",
       "      <td>0.0</td>\n",
       "      <td>0.0</td>\n",
       "      <td>0.0</td>\n",
       "      <td>0.0</td>\n",
       "    </tr>\n",
       "    <tr>\n",
       "      <th>1718</th>\n",
       "      <td>1719</td>\n",
       "      <td>1</td>\n",
       "      <td>2</td>\n",
       "      <td>3818.16</td>\n",
       "      <td>61.66</td>\n",
       "      <td>61.77</td>\n",
       "      <td>0.0</td>\n",
       "      <td>NaN</td>\n",
       "      <td>0.0</td>\n",
       "      <td>0.0</td>\n",
       "      <td>0.0</td>\n",
       "      <td>0.0</td>\n",
       "      <td>0.0</td>\n",
       "      <td>0.0</td>\n",
       "    </tr>\n",
       "    <tr>\n",
       "      <th>2720</th>\n",
       "      <td>2721</td>\n",
       "      <td>1</td>\n",
       "      <td>2</td>\n",
       "      <td>3783.67</td>\n",
       "      <td>61.54</td>\n",
       "      <td>61.48</td>\n",
       "      <td>0.0</td>\n",
       "      <td>NaN</td>\n",
       "      <td>0.0</td>\n",
       "      <td>0.0</td>\n",
       "      <td>0.0</td>\n",
       "      <td>0.0</td>\n",
       "      <td>0.0</td>\n",
       "      <td>0.0</td>\n",
       "    </tr>\n",
       "  </tbody>\n",
       "</table>\n",
       "</div>"
      ],
      "text/plain": [
       "      P ID   OK/NG   Detail   Pad area   Pad width   Pad height   Mark area   \n",
       "1717  1718       1        2    3765.67       61.13        62.15         0.0  \\\n",
       "1718  1719       1        2    3818.16       61.66        61.77         0.0   \n",
       "2720  2721       1        2    3783.67       61.54        61.48         0.0   \n",
       "\n",
       "       Mark area ratio   Edge distance(Left)   Edge distance(Right)   \n",
       "1717               NaN                   0.0                    0.0  \\\n",
       "1718               NaN                   0.0                    0.0   \n",
       "2720               NaN                   0.0                    0.0   \n",
       "\n",
       "       Edge distance(Up)   Edge distance(Down)   Distance between center(X)   \n",
       "1717                 0.0                   0.0                          0.0  \\\n",
       "1718                 0.0                   0.0                          0.0   \n",
       "2720                 0.0                   0.0                          0.0   \n",
       "\n",
       "       Distance between center(Y)  \n",
       "1717                          0.0  \n",
       "1718                          0.0  \n",
       "2720                          0.0  "
      ]
     },
     "execution_count": 28,
     "metadata": {},
     "output_type": "execute_result"
    }
   ],
   "source": [
    "# 데이터 타입 변경하면서 결측치 확인됨 -- mark area=0인 경우 mark area ratio가 결측치로 바뀜. \n",
    "# 0으로 처리해야함\n",
    "\n",
    "data[data[' Mark area ratio'].isnull()]"
   ]
  },
  {
   "cell_type": "code",
   "execution_count": 29,
   "metadata": {},
   "outputs": [
    {
     "name": "stderr",
     "output_type": "stream",
     "text": [
      "C:\\Users\\User\\AppData\\Local\\Temp\\ipykernel_2320\\3417564086.py:1: SettingWithCopyWarning: \n",
      "A value is trying to be set on a copy of a slice from a DataFrame.\n",
      "Try using .loc[row_indexer,col_indexer] = value instead\n",
      "\n",
      "See the caveats in the documentation: https://pandas.pydata.org/pandas-docs/stable/user_guide/indexing.html#returning-a-view-versus-a-copy\n",
      "  data[' Mark area ratio']=data[' Mark area ratio'].fillna(0) #결측값을 0으로 채워넣음\n"
     ]
    },
    {
     "data": {
      "text/plain": [
       "P ID                           0.0\n",
       " OK/NG                         0.0\n",
       " Detail                        0.0\n",
       " Pad area                      0.0\n",
       " Pad width                     0.0\n",
       " Pad height                    0.0\n",
       " Mark area                     0.0\n",
       " Mark area ratio               0.0\n",
       " Edge distance(Left)           0.0\n",
       " Edge distance(Right)          0.0\n",
       " Edge distance(Up)             0.0\n",
       " Edge distance(Down)           0.0\n",
       " Distance between center(X)    0.0\n",
       " Distance between center(Y)    0.0\n",
       "dtype: float64"
      ]
     },
     "execution_count": 29,
     "metadata": {},
     "output_type": "execute_result"
    }
   ],
   "source": [
    "data[' Mark area ratio']=data[' Mark area ratio'].fillna(0) #결측값을 0으로 채워넣음\n",
    "data[data[' Mark area ratio'].isnull()].sum()"
   ]
  },
  {
   "attachments": {},
   "cell_type": "markdown",
   "metadata": {},
   "source": [
    "## 1. 전체 데이터 json파일로 저장"
   ]
  },
  {
   "cell_type": "code",
   "execution_count": 30,
   "metadata": {},
   "outputs": [
    {
     "data": {
      "text/html": [
       "<div>\n",
       "<style scoped>\n",
       "    .dataframe tbody tr th:only-of-type {\n",
       "        vertical-align: middle;\n",
       "    }\n",
       "\n",
       "    .dataframe tbody tr th {\n",
       "        vertical-align: top;\n",
       "    }\n",
       "\n",
       "    .dataframe thead th {\n",
       "        text-align: right;\n",
       "    }\n",
       "</style>\n",
       "<table border=\"1\" class=\"dataframe\">\n",
       "  <thead>\n",
       "    <tr style=\"text-align: right;\">\n",
       "      <th></th>\n",
       "      <th>P ID</th>\n",
       "      <th>OK/NG</th>\n",
       "      <th>Detail</th>\n",
       "      <th>Pad area</th>\n",
       "      <th>Pad width</th>\n",
       "      <th>Pad height</th>\n",
       "      <th>Mark area</th>\n",
       "      <th>Mark area ratio</th>\n",
       "      <th>Edge distance(Left)</th>\n",
       "      <th>Edge distance(Right)</th>\n",
       "      <th>Edge distance(Up)</th>\n",
       "      <th>Edge distance(Down)</th>\n",
       "      <th>Distance between center(X)</th>\n",
       "      <th>Distance between center(Y)</th>\n",
       "    </tr>\n",
       "  </thead>\n",
       "  <tbody>\n",
       "    <tr>\n",
       "      <th>0</th>\n",
       "      <td>1</td>\n",
       "      <td>0</td>\n",
       "      <td>0</td>\n",
       "      <td>3824.16</td>\n",
       "      <td>61.83</td>\n",
       "      <td>62.10</td>\n",
       "      <td>118.47</td>\n",
       "      <td>3.10</td>\n",
       "      <td>31.825</td>\n",
       "      <td>20.875</td>\n",
       "      <td>31.580</td>\n",
       "      <td>18.590</td>\n",
       "      <td>5.475</td>\n",
       "      <td>6.495</td>\n",
       "    </tr>\n",
       "    <tr>\n",
       "      <th>1</th>\n",
       "      <td>2</td>\n",
       "      <td>0</td>\n",
       "      <td>0</td>\n",
       "      <td>3837.65</td>\n",
       "      <td>62.17</td>\n",
       "      <td>62.07</td>\n",
       "      <td>139.47</td>\n",
       "      <td>3.63</td>\n",
       "      <td>24.575</td>\n",
       "      <td>28.095</td>\n",
       "      <td>28.685</td>\n",
       "      <td>18.965</td>\n",
       "      <td>-1.760</td>\n",
       "      <td>4.860</td>\n",
       "    </tr>\n",
       "    <tr>\n",
       "      <th>2</th>\n",
       "      <td>3</td>\n",
       "      <td>0</td>\n",
       "      <td>0</td>\n",
       "      <td>3935.13</td>\n",
       "      <td>62.12</td>\n",
       "      <td>62.13</td>\n",
       "      <td>161.96</td>\n",
       "      <td>4.12</td>\n",
       "      <td>27.760</td>\n",
       "      <td>23.710</td>\n",
       "      <td>26.995</td>\n",
       "      <td>19.355</td>\n",
       "      <td>2.025</td>\n",
       "      <td>3.820</td>\n",
       "    </tr>\n",
       "    <tr>\n",
       "      <th>3</th>\n",
       "      <td>4</td>\n",
       "      <td>0</td>\n",
       "      <td>0</td>\n",
       "      <td>3827.16</td>\n",
       "      <td>62.02</td>\n",
       "      <td>62.09</td>\n",
       "      <td>142.47</td>\n",
       "      <td>3.72</td>\n",
       "      <td>27.160</td>\n",
       "      <td>23.090</td>\n",
       "      <td>31.175</td>\n",
       "      <td>17.465</td>\n",
       "      <td>2.035</td>\n",
       "      <td>6.855</td>\n",
       "    </tr>\n",
       "    <tr>\n",
       "      <th>4</th>\n",
       "      <td>5</td>\n",
       "      <td>0</td>\n",
       "      <td>0</td>\n",
       "      <td>3848.15</td>\n",
       "      <td>62.06</td>\n",
       "      <td>62.49</td>\n",
       "      <td>145.47</td>\n",
       "      <td>3.78</td>\n",
       "      <td>22.030</td>\n",
       "      <td>29.440</td>\n",
       "      <td>27.235</td>\n",
       "      <td>20.415</td>\n",
       "      <td>-3.705</td>\n",
       "      <td>3.410</td>\n",
       "    </tr>\n",
       "  </tbody>\n",
       "</table>\n",
       "</div>"
      ],
      "text/plain": [
       "   P ID   OK/NG   Detail   Pad area   Pad width   Pad height   Mark area   \n",
       "0     1       0        0    3824.16       61.83        62.10      118.47  \\\n",
       "1     2       0        0    3837.65       62.17        62.07      139.47   \n",
       "2     3       0        0    3935.13       62.12        62.13      161.96   \n",
       "3     4       0        0    3827.16       62.02        62.09      142.47   \n",
       "4     5       0        0    3848.15       62.06        62.49      145.47   \n",
       "\n",
       "    Mark area ratio   Edge distance(Left)   Edge distance(Right)   \n",
       "0              3.10                31.825                 20.875  \\\n",
       "1              3.63                24.575                 28.095   \n",
       "2              4.12                27.760                 23.710   \n",
       "3              3.72                27.160                 23.090   \n",
       "4              3.78                22.030                 29.440   \n",
       "\n",
       "    Edge distance(Up)   Edge distance(Down)   Distance between center(X)   \n",
       "0              31.580                18.590                        5.475  \\\n",
       "1              28.685                18.965                       -1.760   \n",
       "2              26.995                19.355                        2.025   \n",
       "3              31.175                17.465                        2.035   \n",
       "4              27.235                20.415                       -3.705   \n",
       "\n",
       "    Distance between center(Y)  \n",
       "0                        6.495  \n",
       "1                        4.860  \n",
       "2                        3.820  \n",
       "3                        6.855  \n",
       "4                        3.410  "
      ]
     },
     "execution_count": 30,
     "metadata": {},
     "output_type": "execute_result"
    }
   ],
   "source": [
    "data.head()"
   ]
  },
  {
   "cell_type": "code",
   "execution_count": 31,
   "metadata": {},
   "outputs": [
    {
     "data": {
      "text/plain": [
       "P ID                             int64\n",
       " OK/NG                           int64\n",
       " Detail                          int64\n",
       " Pad area                      float64\n",
       " Pad width                     float64\n",
       " Pad height                    float64\n",
       " Mark area                     float64\n",
       " Mark area ratio               float64\n",
       " Edge distance(Left)           float64\n",
       " Edge distance(Right)          float64\n",
       " Edge distance(Up)             float64\n",
       " Edge distance(Down)           float64\n",
       " Distance between center(X)    float64\n",
       " Distance between center(Y)    float64\n",
       "dtype: object"
      ]
     },
     "execution_count": 31,
     "metadata": {},
     "output_type": "execute_result"
    }
   ],
   "source": [
    "data.dtypes"
   ]
  },
  {
   "cell_type": "code",
   "execution_count": 32,
   "metadata": {},
   "outputs": [
    {
     "data": {
      "text/plain": [
       "Index(['P ID', ' OK/NG', ' Detail', ' Pad area', ' Pad width', ' Pad height',\n",
       "       ' Mark area', ' Mark area ratio', ' Edge distance(Left)',\n",
       "       ' Edge distance(Right)', ' Edge distance(Up)', ' Edge distance(Down)',\n",
       "       ' Distance between center(X)', ' Distance between center(Y)'],\n",
       "      dtype='object')"
      ]
     },
     "execution_count": 32,
     "metadata": {},
     "output_type": "execute_result"
    }
   ],
   "source": [
    "data.columns"
   ]
  },
  {
   "cell_type": "code",
   "execution_count": 24,
   "metadata": {},
   "outputs": [],
   "source": [
    "rows={}\n",
    "\n",
    "for index in range(len(data)):\n",
    "    \n",
    "    #딕셔너리에 한행씩 추가 {'row1':{'P ID':1110, 'Detail':0, ...}}\n",
    "    rows['row{}'.format(index+1)]= {'PID': data['P ID'][index], \n",
    "    'Detail':data[' Detail'][index],\n",
    "    'Pad area':data[' Pad area'][index], \n",
    "    'Pad width':data[' Pad width'][index], \n",
    "    'Pad height': data[' Pad height'][index], \n",
    "    'Mark area': data[' Mark area'][index], \n",
    "    'Mark area ratio':data[' Mark area ratio'][index],\n",
    "    'Edge distance(Left)': data[' Edge distance(Left)'][index], \n",
    "    'Edge distance(Right)':data[' Edge distance(Right)'][index], \n",
    "    'Edge distance(Up)': data[' Edge distance(Up)'][index], \n",
    "    'Edge distance(Down)':data[' Edge distance(Down)'][index],\n",
    "    'Distance between center(X)':data[' Distance between center(X)'][index],\n",
    "    'Distance between center(Y)':data[' Distance between center(Y)'][index],\n",
    "    'result':data[' OK/NG'][index]}\n",
    "    \n",
    "#value 값이 int64로 설정되어 있어서 에러 뜸. \n",
    "\n",
    "#딕셔너리의 값을 str으로 바꿔주는 함수 적용\n",
    "class NpEncoder(json.JSONEncoder):\n",
    "    def default(self, obj):\n",
    "        if isinstance(obj, np.integer):\n",
    "            return int(obj)\n",
    "        if isinstance(obj, np.floating):\n",
    "            return float(obj)\n",
    "        if isinstance(obj, np.ndarray):\n",
    "            return obj.tolist()\n",
    "        return json.JSONEncoder.default(self, obj)\n",
    "\n",
    "#json 파일 생성\n",
    "dictionary_str = json.dumps({'file_name':'PADS_data',\n",
    "                             'rows_count':11266,\n",
    "    'rows': rows}, cls=NpEncoder)\n",
    "\n",
    "#줄띄움 기호 없애기\n",
    "dictionary_str = dictionary_str.replace(\"\\n\", '\\\\n').replace(\"\\t\", \"\\\\t\")\n",
    "dictionary_str = json.loads(dictionary_str)\n",
    "\n",
    "\n",
    "#print(dictionary_str)\n",
    "#print(type(dictionary_str))\n",
    "\n",
    "with open('PADS_data.json',\"w\", encoding='utf-8') as f:\n",
    "   json.dump(dictionary_str, f, indent=4, ensure_ascii=False) "
   ]
  },
  {
   "cell_type": "code",
   "execution_count": null,
   "metadata": {},
   "outputs": [],
   "source": []
  },
  {
   "cell_type": "code",
   "execution_count": null,
   "metadata": {},
   "outputs": [],
   "source": []
  },
  {
   "attachments": {},
   "cell_type": "markdown",
   "metadata": {},
   "source": [
    "## 2. 학습용/검증용 데이터 분리하여 json 파일로 저장"
   ]
  },
  {
   "attachments": {},
   "cell_type": "markdown",
   "metadata": {},
   "source": [
    "2-0. 학습용/검증용 데이터 분리"
   ]
  },
  {
   "cell_type": "code",
   "execution_count": 22,
   "metadata": {},
   "outputs": [],
   "source": [
    "from sklearn.model_selection import train_test_split\n",
    "\n",
    "X= data[['P ID', ' Detail',' Pad area', ' Pad width',' Pad height', ' Mark area', ' Mark area ratio',\n",
    "                    ' Edge distance(Left)',  ' Edge distance(Right)', ' Edge distance(Up)',' Edge distance(Down)', \n",
    "                    ' Distance between center(X)', ' Distance between center(Y)' ]]\n",
    "y= data[' OK/NG']\n",
    "\n",
    "X_train,X_test,y_train,y_test=train_test_split(X,y,test_size=0.3,random_state=42, stratify=y)\n",
    "\n",
    "\n",
    "#인덱스값 리셋. 아래에서 인덱스값으로 for문 돌리기 위함\n",
    "X_train=X_train.reset_index() #인덱스값 리셋. 아래에서 인덱스값으로 for문 돌리기 위함\n",
    "X_test=X_test.reset_index()\n",
    "y_train=y_train.reset_index()\n",
    "y_test=y_test.reset_index()\n",
    "\n",
    "#X_train.head()"
   ]
  },
  {
   "attachments": {},
   "cell_type": "markdown",
   "metadata": {},
   "source": [
    "2-1. X_train 데이터 json 파일 저장"
   ]
  },
  {
   "attachments": {},
   "cell_type": "markdown",
   "metadata": {},
   "source": []
  },
  {
   "cell_type": "code",
   "execution_count": 23,
   "metadata": {},
   "outputs": [],
   "source": [
    "rows={}\n",
    "\n",
    "for index in range(len(X_train)):\n",
    "    \n",
    "    #딕셔너리에 한행씩 추가 {'row1':{'P ID':1110, 'Detail':0, ...}}\n",
    "    rows['row{}'.format(index+1)]= {'PID': X_train['P ID'][index], \n",
    "    'Datail':X_train[' Detail'][index],\n",
    "    'Pad area':X_train[' Pad area'][index], \n",
    "    'Pad width':X_train[' Pad width'][index], \n",
    "    'Pad height': X_train[' Pad height'][index], \n",
    "    'Mark area': X_train[' Mark area'][index], \n",
    "    'Mark area ratio':X_train[' Mark area ratio'][index],\n",
    "    'Edge distance(Left)': X_train[' Edge distance(Left)'][index], \n",
    "    'Edge distance(Right)':X_train[' Edge distance(Right)'][index], \n",
    "    'Edge distance(Up)': X_train[' Edge distance(Up)'][index], \n",
    "    'Edge distace(Down)':X_train[' Edge distance(Down)'][index],\n",
    "    'Distance between center(X)':X_train[' Distance between center(X)'][index],\n",
    "    'Distance between center(Y)':X_train[' Distance between center(Y)'][index]}\n",
    "    \n",
    "#value 값이 int64로 설정되어 있어서 에러 뜸. \n",
    "\n",
    "#딕셔너리의 값을 str으로 바꿔주는 함수 적용\n",
    "class NpEncoder(json.JSONEncoder):\n",
    "    def default(self, obj):\n",
    "        if isinstance(obj, np.integer):\n",
    "            return int(obj)\n",
    "        if isinstance(obj, np.floating):\n",
    "            return float(obj)\n",
    "        if isinstance(obj, np.ndarray):\n",
    "            return obj.tolist()\n",
    "        return json.JSONEncoder.default(self, obj)\n",
    "\n",
    "#json 파일 생성\n",
    "dictionary_str = json.dumps({'file_name':'X_train_data',\n",
    "    'rows': rows}, cls=NpEncoder)\n",
    "\n",
    "#줄띄움 기호 없애기\n",
    "dictionary_str = dictionary_str.replace(\"\\n\", '\\\\n').replace(\"\\t\", \"\\\\t\")\n",
    "dictionary_str = json.loads(dictionary_str)\n",
    "\n",
    "\n",
    "#print(dictionary_str)\n",
    "#print(type(dictionary_str))\n",
    "\n",
    "with open('Pads_X_train_final.json',\"w\", encoding='utf-8') as f:\n",
    "   json.dump(dictionary_str, f, indent=4, ensure_ascii=False) "
   ]
  },
  {
   "attachments": {},
   "cell_type": "markdown",
   "metadata": {},
   "source": [
    "2-2. X_test 데이터 json 파일 저장"
   ]
  },
  {
   "cell_type": "code",
   "execution_count": 25,
   "metadata": {},
   "outputs": [],
   "source": [
    "rows={}\n",
    "\n",
    "for index in range(len(X_test)):\n",
    "    \n",
    "    #딕셔너리에 한행씩 추가 {'row1':{'P ID':1110, 'Detail':0, ...}}\n",
    "    rows['row{}'.format(index+1)]= {'PID': X_test['P ID'][index], \n",
    "    'Datail':X_test[' Detail'][index],\n",
    "    'Pad area':X_test[' Pad area'][index], \n",
    "    'Pad width':X_test[' Pad width'][index], \n",
    "    'Pad height': X_test[' Pad height'][index], \n",
    "    'Mark area': X_test[' Mark area'][index], \n",
    "    'Mark area ratio':X_test[' Mark area ratio'][index],\n",
    "    'Edge distance(Left)': X_test[' Edge distance(Left)'][index], \n",
    "    'Edge distance(Right)':X_test[' Edge distance(Right)'][index], \n",
    "    'Edge distance(Up)': X_test[' Edge distance(Up)'][index], \n",
    "    'Edge distace(Down)':X_test[' Edge distance(Down)'][index],\n",
    "    'Distance between center(X)':X_test[' Distance between center(X)'][index],\n",
    "    'Distance between center(Y)':X_test[' Distance between center(Y)'][index]}\n",
    "    \n",
    "#value 값이 int64로 설정되어 있어서 에러 뜸. \n",
    "\n",
    "#딕셔너리의 값을 str으로 바꿔주는 함수 적용\n",
    "class NpEncoder(json.JSONEncoder):\n",
    "    def default(self, obj):\n",
    "        if isinstance(obj, np.integer):\n",
    "            return int(obj)\n",
    "        if isinstance(obj, np.floating):\n",
    "            return float(obj)\n",
    "        if isinstance(obj, np.ndarray):\n",
    "            return obj.tolist()\n",
    "        return json.JSONEncoder.default(self, obj)\n",
    "\n",
    "#json 파일 생성\n",
    "dictionary_str = json.dumps({'file_name':'X_test_data',\n",
    "    'rows': rows}, cls=NpEncoder)\n",
    "\n",
    "#줄띄움 기호 없애기\n",
    "dictionary_str = dictionary_str.replace(\"\\n\", '\\\\n').replace(\"\\t\", \"\\\\t\")\n",
    "dictionary_str = json.loads(dictionary_str)\n",
    "\n",
    "\n",
    "#print(dictionary_str)\n",
    "#print(type(dictionary_str))\n",
    "\n",
    "with open('Pads_X_test_final.json',\"w\", encoding='utf-8') as f:\n",
    "   json.dump(dictionary_str, f, indent=4, ensure_ascii=False) "
   ]
  },
  {
   "attachments": {},
   "cell_type": "markdown",
   "metadata": {},
   "source": [
    "2-3. y_train 데이터 json 저장"
   ]
  },
  {
   "cell_type": "code",
   "execution_count": 26,
   "metadata": {},
   "outputs": [],
   "source": [
    "rows={}\n",
    "\n",
    "for index in range(len(y_train)):\n",
    "    \n",
    "    #딕셔너리에 한행씩 추가 {'row1':{'P ID':1110, 'Detail':0, ...}}\n",
    "    rows['row{}'.format(index+1)]= {'PID': y_train['index'][index], \n",
    "    'Result':y_train[' OK/NG'][index]\n",
    "}\n",
    "    \n",
    "#value 값이 int64로 설정되어 있어서 에러 뜸. \n",
    "\n",
    "#딕셔너리의 값을 str으로 바꿔주는 함수 적용\n",
    "class NpEncoder(json.JSONEncoder):\n",
    "    def default(self, obj):\n",
    "        if isinstance(obj, np.integer):\n",
    "            return int(obj)\n",
    "        if isinstance(obj, np.floating):\n",
    "            return float(obj)\n",
    "        if isinstance(obj, np.ndarray):\n",
    "            return obj.tolist()\n",
    "        return json.JSONEncoder.default(self, obj)\n",
    "\n",
    "#json 파일 생성\n",
    "dictionary_str = json.dumps({'file_name':'y_train_data',\n",
    "    'rows': rows}, cls=NpEncoder)\n",
    "\n",
    "#줄띄움 기호 없애기\n",
    "dictionary_str = dictionary_str.replace(\"\\n\", '\\\\n').replace(\"\\t\", \"\\\\t\")\n",
    "dictionary_str = json.loads(dictionary_str)\n",
    "\n",
    "\n",
    "#print(dictionary_str)\n",
    "#print(type(dictionary_str))\n",
    "\n",
    "with open('Pads_y_train_final.json',\"w\", encoding='utf-8') as f:\n",
    "   json.dump(dictionary_str, f, indent=4, ensure_ascii=False) "
   ]
  },
  {
   "cell_type": "code",
   "execution_count": null,
   "metadata": {},
   "outputs": [],
   "source": []
  },
  {
   "attachments": {},
   "cell_type": "markdown",
   "metadata": {},
   "source": [
    "2-4. y_test 데이터 json 저장"
   ]
  },
  {
   "cell_type": "code",
   "execution_count": 27,
   "metadata": {},
   "outputs": [],
   "source": [
    "rows={}\n",
    "\n",
    "for index in range(len(y_test)):\n",
    "    \n",
    "    #딕셔너리에 한행씩 추가 \n",
    "    rows['row{}'.format(index+1)]= {'PID': y_test['index'][index], \n",
    "    'Result':y_test[' OK/NG'][index]\n",
    "}\n",
    "    \n",
    "#value 값이 int64로 설정되어 있어서 에러 뜸. \n",
    "\n",
    "#딕셔너리의 값을 str으로 바꿔주는 함수 적용\n",
    "class NpEncoder(json.JSONEncoder):\n",
    "    def default(self, obj):\n",
    "        if isinstance(obj, np.integer):\n",
    "            return int(obj)\n",
    "        if isinstance(obj, np.floating):\n",
    "            return float(obj)\n",
    "        if isinstance(obj, np.ndarray):\n",
    "            return obj.tolist()\n",
    "        return json.JSONEncoder.default(self, obj)\n",
    "\n",
    "#json 파일 생성\n",
    "dictionary_str = json.dumps({'file_name':'y_test_data',\n",
    "    'rows': rows}, cls=NpEncoder)\n",
    "\n",
    "#줄띄움 기호 없애기\n",
    "dictionary_str = dictionary_str.replace(\"\\n\", '\\\\n').replace(\"\\t\", \"\\\\t\")\n",
    "dictionary_str = json.loads(dictionary_str)\n",
    "\n",
    "\n",
    "#print(dictionary_str)\n",
    "#print(type(dictionary_str))\n",
    "\n",
    "with open('Pads_y_test_final.json',\"w\", encoding='utf-8') as f:\n",
    "   json.dump(dictionary_str, f, indent=4, ensure_ascii=False) "
   ]
  },
  {
   "cell_type": "code",
   "execution_count": null,
   "metadata": {},
   "outputs": [],
   "source": []
  }
 ],
 "metadata": {
  "kernelspec": {
   "display_name": "Python 3",
   "language": "python",
   "name": "python3"
  },
  "language_info": {
   "codemirror_mode": {
    "name": "ipython",
    "version": 3
   },
   "file_extension": ".py",
   "mimetype": "text/x-python",
   "name": "python",
   "nbconvert_exporter": "python",
   "pygments_lexer": "ipython3",
   "version": "3.11.2"
  },
  "orig_nbformat": 4
 },
 "nbformat": 4,
 "nbformat_minor": 2
}
